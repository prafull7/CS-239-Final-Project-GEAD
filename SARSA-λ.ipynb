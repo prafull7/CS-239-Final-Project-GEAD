{
 "cells": [
  {
   "cell_type": "code",
   "execution_count": 15,
   "metadata": {
    "collapsed": false
   },
   "outputs": [],
   "source": [
    "using RockSample"
   ]
  },
  {
   "cell_type": "code",
   "execution_count": 16,
   "metadata": {
    "collapsed": false
   },
   "outputs": [
    {
     "data": {
      "text/plain": [
       "RS(20,RobotState(0,4),[0.5,0.5,0.5,0.5,0.5,0.5,0.5,0.5],0,[Rock(0,5,\"Bad\"),Rock(1,0,\"Bad\"),Rock(2,2,\"Good\"),Rock(2,6,\"Good\"),Rock(3,2,\"Bad\"),Rock(3,5,\"Good\"),Rock(5,1,\"Bad\"),Rock(6,3,\"Bad\")],1x13 Array{ASCIIString,2}:\n",
       " \"North\"  \"South\"  \"East\"  \"West\"  \"Sample\"  …  \"Check6\"  \"Check7\"  \"Check8\",false)"
      ]
     },
     "execution_count": 16,
     "metadata": {},
     "output_type": "execute_result"
    }
   ],
   "source": [
    "rs = RSinit()"
   ]
  },
  {
   "cell_type": "code",
   "execution_count": 17,
   "metadata": {
    "collapsed": true
   },
   "outputs": [],
   "source": [
    "using DataFrames"
   ]
  },
  {
   "cell_type": "code",
   "execution_count": 23,
   "metadata": {
    "collapsed": false
   },
   "outputs": [],
   "source": [
    "type dataPt\n",
    "    s\n",
    "    a\n",
    "    sp\n",
    "    r\n",
    "end\n",
    "\n",
    "type RobotState\n",
    "    x\n",
    "    y\n",
    "end"
   ]
  },
  {
   "cell_type": "code",
   "execution_count": 46,
   "metadata": {
    "collapsed": false
   },
   "outputs": [
    {
     "data": {
      "text/plain": [
       "0-element Array{dataPt,1}"
      ]
     },
     "execution_count": 46,
     "metadata": {},
     "output_type": "execute_result"
    }
   ],
   "source": [
    "data = dataPt[]"
   ]
  },
  {
   "cell_type": "code",
   "execution_count": 47,
   "metadata": {
    "collapsed": false
   },
   "outputs": [
    {
     "data": {
      "text/plain": [
       "1-element Array{dataPt,1}:\n",
       " dataPt(RobotState(1,3),\"West\",RobotState(1,4),10)"
      ]
     },
     "execution_count": 47,
     "metadata": {},
     "output_type": "execute_result"
    }
   ],
   "source": [
    "push!(data, dataPt(RobotState(1,3), \"West\", RobotState(1,4), 10 ))\n",
    "data"
   ]
  },
  {
   "cell_type": "code",
   "execution_count": 28,
   "metadata": {
    "collapsed": false
   },
   "outputs": [
    {
     "ename": "LoadError",
     "evalue": "syntax: incomplete: premature end of input\nwhile loading In[28], in expression starting on line 1",
     "output_type": "error",
     "traceback": [
      "syntax: incomplete: premature end of input\nwhile loading In[28], in expression starting on line 1",
      ""
     ]
    }
   ],
   "source": [
    "moveOptions = [\"North\", \"South\", \"East\", \"West\"]\n",
    "while(rs.Terminated != true)\n",
    "    ind = rand(1:3)\n",
    "    if ind == 1\n",
    "        ind = rand(1:4)\n",
    "        toPut = dataPt(rs.Robot, moveOptions[ind],rs.Robot, rs.Reward)\n",
    "        move(rs, moveOptions[ind])\n",
    "        toPut.sp = rs.Robot\n",
    "        toPut.r = rs.Reward - toPut.r\n",
    "        push!(data, toPut)\n",
    "    \n",
    "    elseif ind == 2\n",
    "        ind = rand(1:8)\n",
    "        toPut = dataPt()\n",
    "        \n",
    "        "
   ]
  },
  {
   "cell_type": "code",
   "execution_count": 31,
   "metadata": {
    "collapsed": false
   },
   "outputs": [
    {
     "data": {
      "text/plain": [
       "true"
      ]
     },
     "execution_count": 31,
     "metadata": {},
     "output_type": "execute_result"
    }
   ],
   "source": [
    "rs.Terminated != true"
   ]
  },
  {
   "cell_type": "code",
   "execution_count": 34,
   "metadata": {
    "collapsed": false
   },
   "outputs": [],
   "source": [
    "x = srand(3)"
   ]
  },
  {
   "cell_type": "code",
   "execution_count": 44,
   "metadata": {
    "collapsed": false
   },
   "outputs": [
    {
     "ename": "LoadError",
     "evalue": "`rand` has no method matching rand(::Array{ASCIIString,1})\nwhile loading In[44], in expression starting on line 1",
     "output_type": "error",
     "traceback": [
      "`rand` has no method matching rand(::Array{ASCIIString,1})\nwhile loading In[44], in expression starting on line 1",
      ""
     ]
    }
   ],
   "source": []
  },
  {
   "cell_type": "code",
   "execution_count": null,
   "metadata": {
    "collapsed": true
   },
   "outputs": [],
   "source": []
  }
 ],
 "metadata": {
  "kernelspec": {
   "display_name": "Julia 0.3.11",
   "language": "julia",
   "name": "julia-0.3"
  },
  "language_info": {
   "file_extension": ".jl",
   "mimetype": "application/julia",
   "name": "julia",
   "version": "0.3.11"
  }
 },
 "nbformat": 4,
 "nbformat_minor": 0
}
