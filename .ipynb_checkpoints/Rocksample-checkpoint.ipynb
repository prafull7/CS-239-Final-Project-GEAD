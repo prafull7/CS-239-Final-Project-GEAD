{
 "cells": [
  {
   "cell_type": "code",
   "execution_count": 3,
   "metadata": {
    "collapsed": false
   },
   "outputs": [],
   "source": [
    "module RockSample\n",
    "\n",
    "export RS, RSinit, move, sample, check, RobotState\n",
    "\n",
    "type RobotState\n",
    "    x\n",
    "    y\n",
    "end\n",
    "\n",
    "type Rock\n",
    "    x\n",
    "    y\n",
    "    value\n",
    "end\n",
    "\n",
    "type RS\n",
    "    d0\n",
    "    Robot\n",
    "    Belief\n",
    "    Reward\n",
    "    Rocks\n",
    "    Actions\n",
    "    Terminated\n",
    "end\n",
    "# ------------------------------------------------> x axis\n",
    "#   (0,0) , (1,0), (2,0), (3,0), (4,0), (5,0) (6,0)\n",
    "#   (0,1) , (1,1), (2,1), (3,1), (4,1), (5,1) (6,1)\n",
    "#   (0,2) , (1,2), (2,2), (3,2), (4,2), (5,2) (6,2)\n",
    "#   (0,3) , (1,3), (2,3), (3,3), (4,3), (5,3) (6,3)\n",
    "#   (0,4) , (1,4), (2,4), (3,4), (4,4), (5,4) (6,4)\n",
    "#   (0,5) , (1,5), (2,5), (3,5), (4,5), (5,5) (6,5)\n",
    "#   (0,6) , (1,6), (2,6), (3,6), (4,6), (5,6) (6,6)\n",
    "\n"
   ]
  },
  {
   "cell_type": "code",
   "execution_count": 4,
   "metadata": {
    "collapsed": false
   },
   "outputs": [
    {
     "data": {
      "text/plain": [
       "RSinit (generic function with 1 method)"
      ]
     },
     "execution_count": 4,
     "metadata": {},
     "output_type": "execute_result"
    }
   ],
   "source": [
    "function RSinit()\n",
    "    d0 = 20\n",
    "    Rocks = [Rock(0,5, \"Bad\"), Rock(1,0, \"Bad\"), Rock(2,2, \"Bad\"), \n",
    "        Rock(2,6, \"Bad\"), Rock(3,2, \"Bad\"), Rock(3,5, \"Bad\"), \n",
    "        Rock(5,1, \"Bad\"), Rock(6,3, \"Bad\")]\n",
    "    \n",
    "    randomVals = rand(Bool,1,8)\n",
    "    for(i in collect(1:8))\n",
    "        #println(randomVals[i])\n",
    "        if(randomVals[i] == true)\n",
    "            Rocks[i].value = \"Good\"\n",
    "        end\n",
    "    end\n",
    "    Reward = 0\n",
    "    Actions = getActionSet(Rocks)\n",
    "    Robot = RobotState(0,4)\n",
    "    Belief = 0.5*ones(length(Rocks))\n",
    "    Terminated = false\n",
    "    return RS(d0, Robot, Belief, Reward, Rocks, Actions, Terminated)\n",
    "end\n"
   ]
  },
  {
   "cell_type": "code",
   "execution_count": 5,
   "metadata": {
    "collapsed": false
   },
   "outputs": [
    {
     "data": {
      "text/plain": [
       "getActionSet (generic function with 1 method)"
      ]
     },
     "execution_count": 5,
     "metadata": {},
     "output_type": "execute_result"
    }
   ],
   "source": [
    "function getActionSet(rp)\n",
    "    A = [\"North\" \"South\" \"East\" \"West\" \"Sample\"]\n",
    "    for i = 1:length(rp)\n",
    "        A = hcat(A,\"Check\"*string(i))\n",
    "    end\n",
    "    return A\n",
    "end"
   ]
  },
  {
   "cell_type": "code",
   "execution_count": 6,
   "metadata": {
    "collapsed": false
   },
   "outputs": [
    {
     "data": {
      "text/plain": [
       "move (generic function with 1 method)"
      ]
     },
     "execution_count": 6,
     "metadata": {},
     "output_type": "execute_result"
    }
   ],
   "source": [
    "# Moving North => y -= 1\n",
    "# Moving South => y += 1\n",
    "# Moving West => x -= 1\n",
    "# Moving East => x += 1\n",
    "function move(RS, direction)\n",
    "    # ends the game because the robot is in the exit\n",
    "    if RS.Robot.x > 6\n",
    "        RS.Terminated = true\n",
    "        return \"end\"\n",
    "    end\n",
    "\n",
    "    posNew = deepcopy(RS.Robot)\n",
    "    if direction == \"North\"\n",
    "        posNew.y -= 1\n",
    "    elseif direction == \"South\"\n",
    "        posNew.y += 1\n",
    "    elseif direction == \"West\"\n",
    "        posNew.x -= 1\n",
    "    elseif direction == \"East\"\n",
    "        posNew.x += 1\n",
    "    end\n",
    "    \n",
    "    # ends the game because the robot is in the exit\n",
    "    if posNew.x > 6 && posNew.y >= 0 && posNew.y <= 6\n",
    "        RS.Robot = posNew\n",
    "        RS.Reward += 10\n",
    "        RS.Terminated = true\n",
    "        return \"end\"\n",
    "    elseif posNew.x >= 0 && posNew.x <= 6 && posNew.y >= 0 && posNew.y <= 6\n",
    "        RS.Robot = posNew\n",
    "    else\n",
    "        RS.Reward -= 100\n",
    "    end\n",
    "    return\n",
    "end"
   ]
  },
  {
   "cell_type": "code",
   "execution_count": 7,
   "metadata": {
    "collapsed": false
   },
   "outputs": [
    {
     "data": {
      "text/plain": [
       "sample (generic function with 1 method)"
      ]
     },
     "execution_count": 7,
     "metadata": {},
     "output_type": "execute_result"
    }
   ],
   "source": [
    "function sample(RS)\n",
    "    for r in RS.Rocks\n",
    "        if r.x == RS.Robot.x && r.y == RS.Robot.y\n",
    "            if r.value == \"Bad\"\n",
    "                RS.Reward -= 10\n",
    "            else\n",
    "                RS.Reward += 10\n",
    "                r.value = \"Bad\"\n",
    "            end\n",
    "        end\n",
    "    end\n",
    "\n",
    "end"
   ]
  },
  {
   "cell_type": "code",
   "execution_count": null,
   "metadata": {
    "collapsed": true
   },
   "outputs": [],
   "source": [
    "# RS is the rocksample instance and number is the number of the\n",
    "# rock that we want to sample ranging from 1:8\n",
    "function check(RS, number)\n",
    "    rock = RS.Rocks[number]\n",
    "    d = abs(RS.Robot.x - rock.x) + abs(RS.Robot.y - rock.y)\n",
    "    nu = 2^(-d/RS.d0)\n",
    "    pco = 0.5 + nu*0.5\n",
    "    if rand() > pco\n",
    "        if rock.value == \"Good\"\n",
    "            return \"Bad\"\n",
    "        elseif rock.value == \"Bad\"\n",
    "            return \"Good\"\n",
    "        end\n",
    "    else\n",
    "        return rock.value\n",
    "    end            \n",
    "end"
   ]
  },
  {
   "cell_type": "code",
   "execution_count": 16,
   "metadata": {
    "collapsed": false
   },
   "outputs": [
    {
     "data": {
      "text/plain": [
       "getMinReward (generic function with 1 method)"
      ]
     },
     "execution_count": 16,
     "metadata": {},
     "output_type": "execute_result"
    }
   ],
   "source": [
    "# Function that returns the max reward possible in the input rocksample instance\n",
    "function getMaxReward(RS)\n",
    "    maxR = 10\n",
    "    for r in RS.Rocks\n",
    "        if r.value == \"Good\"\n",
    "            maxR += 10\n",
    "        end\n",
    "    end\n",
    "    return maxR\n",
    "end\n",
    "\n",
    "# Function that returns the minimum reward possible in the input rocksample instance\n",
    "function getMinReward(RS)\n",
    "    # This case assumes that the robot might never exit the environment\n",
    "    # Add 10 to the output if robot will exit the environement for sure.\n",
    "    minR = 0\n",
    "    for r in RS.Rocks\n",
    "        if r.value == \"Bad\"\n",
    "            minR -= 10\n",
    "        end\n",
    "    end\n",
    "    return minR\n",
    "end"
   ]
  },
  {
   "cell_type": "code",
   "execution_count": 9,
   "metadata": {
    "collapsed": false
   },
   "outputs": [
    {
     "ename": "LoadError",
     "evalue": "syntax: unexpected end\nwhile loading In[9], in expression starting on line 1",
     "output_type": "error",
     "traceback": [
      "syntax: unexpected end\nwhile loading In[9], in expression starting on line 1",
      ""
     ]
    }
   ],
   "source": [
    "end # module "
   ]
  }
 ],
 "metadata": {
  "kernelspec": {
   "display_name": "Julia 0.3.11",
   "language": "julia",
   "name": "julia-0.3"
  },
  "language_info": {
   "file_extension": ".jl",
   "mimetype": "application/julia",
   "name": "julia",
   "version": "0.3.11"
  }
 },
 "nbformat": 4,
 "nbformat_minor": 0
}
