{
 "cells": [
  {
   "cell_type": "code",
   "execution_count": 18,
   "metadata": {
    "collapsed": false
   },
   "outputs": [],
   "source": [
    "# gridSize hold the width and height of the grid\n",
    "type sizeOfGrid\n",
    "    W\n",
    "    H\n",
    "end\n",
    "\n",
    "# State is storing the (x,y) coordinates defining a state of an object\n",
    "type robot\n",
    "    x\n",
    "    y\n",
    "    r\n",
    "end\n",
    "\n",
    "type Rock\n",
    "    x\n",
    "    y\n",
    "    v\n",
    "end\n",
    "\n",
    "# Action is storing the direction which can be :left, :right, :up, :down\n",
    "type Action\n",
    "    direction\n",
    "end\n",
    "# The grid coordinates look as follows\n",
    "# (1,1) (2,1) (3,1) .....\n",
    "# (1,2) (2,2) (3,2) .....\n",
    "# (1,3) (2,3) (3,3) .....\n",
    "#   .     .     .\n",
    "#   .     .     .\n",
    "#   .     .     .\n"
   ]
  },
  {
   "cell_type": "code",
   "execution_count": 27,
   "metadata": {
    "collapsed": false
   },
   "outputs": [
    {
     "name": "stdout",
     "output_type": "stream",
     "text": [
      "false\n",
      "true\n",
      "true\n",
      "true\n",
      "false\n",
      "false\n",
      "false\n",
      "true\n"
     ]
    },
    {
     "data": {
      "text/plain": [
       "8-element Array{Rock,1}:\n",
       " Rock(1,6,0)\n",
       " Rock(2,1,1)\n",
       " Rock(3,3,1)\n",
       " Rock(3,7,1)\n",
       " Rock(4,3,0)\n",
       " Rock(4,6,0)\n",
       " Rock(6,2,0)\n",
       " Rock(7,4,1)"
      ]
     },
     "execution_count": 27,
     "metadata": {},
     "output_type": "execute_result"
    }
   ],
   "source": [
    "# gridS is storing the size of the grid\n",
    "gridS = sizeOfGrid(7,8)\n",
    "\n",
    "# rocks is an array having the (x, y) of the rocks in the environment\n",
    "rocks = [Rock(1,6,0), Rock(2,1,0), Rock(3,3,0), Rock(3,7,0), Rock(4,3,0), \n",
    "    Rock(4,6,0), Rock(6,2,0), Rock(7,4,0)]\n",
    "\n",
    "# roboS is the state of the robot. Below is the initial state of the robot.\n",
    "roboS = robot(1,4, 0)\n",
    "randomVals = rand(Bool,1,8)\n",
    "\n",
    "for(i in [1:8])\n",
    "    println(randomVals[i])\n",
    "    if(randomVals[i] == true)\n",
    "        rocks[i].v = 1\n",
    "    else\n",
    "        rocks[i].v = 0\n",
    "    end\n",
    "end\n",
    "\n",
    "\n",
    "rocks\n"
   ]
  },
  {
   "cell_type": "code",
   "execution_count": 36,
   "metadata": {
    "collapsed": false
   },
   "outputs": [
    {
     "data": {
      "text/plain": [
       "sample (generic function with 1 method)"
      ]
     },
     "execution_count": 36,
     "metadata": {},
     "output_type": "execute_result"
    }
   ],
   "source": [
    "function move(roboS, direction)\n",
    "    if(direction == :left)\n",
    "        roboS.x -= 1 \n",
    "    end\n",
    "    \n",
    "    if(direction == :right)\n",
    "        roboS.x += 1 \n",
    "    end\n",
    "    \n",
    "    if(direction == :up)\n",
    "        roboS.y -= 1 \n",
    "    end\n",
    "    \n",
    "    if(direction == :down)\n",
    "        roboS.y += 1 \n",
    "    end\n",
    "end\n",
    "\n",
    "\n",
    "function sample(roboS, rocks)\n",
    "    for(r in rocks)\n",
    "        if(r.x == roboS.x && r.y == roboS.y)\n",
    "            if(r.v == 0)\n",
    "                roboS.r -= 10\n",
    "            else\n",
    "                roboS.r += 10\n",
    "                r.v = 0\n",
    "            end\n",
    "            return roboS\n",
    "        end\n",
    "    end\n",
    "    return roboS\n",
    "end\n",
    "\n",
    "\n",
    "#function check(roboS, rocks, rockID)\n",
    "    "
   ]
  },
  {
   "cell_type": "code",
   "execution_count": 37,
   "metadata": {
    "collapsed": false
   },
   "outputs": [
    {
     "data": {
      "text/plain": [
       "robot(0,4,0)"
      ]
     },
     "execution_count": 37,
     "metadata": {},
     "output_type": "execute_result"
    }
   ],
   "source": [
    "roboS"
   ]
  },
  {
   "cell_type": "code",
   "execution_count": 48,
   "metadata": {
    "collapsed": false
   },
   "outputs": [],
   "source": [
    "move(roboS, :right)"
   ]
  },
  {
   "cell_type": "code",
   "execution_count": 47,
   "metadata": {
    "collapsed": false
   },
   "outputs": [
    {
     "data": {
      "text/plain": [
       "robot(4,4,0)"
      ]
     },
     "execution_count": 47,
     "metadata": {},
     "output_type": "execute_result"
    }
   ],
   "source": [
    "roboS"
   ]
  },
  {
   "cell_type": "code",
   "execution_count": null,
   "metadata": {
    "collapsed": true
   },
   "outputs": [],
   "source": []
  }
 ],
 "metadata": {
  "kernelspec": {
   "display_name": "Julia 0.3.11",
   "language": "julia",
   "name": "julia-0.3"
  },
  "language_info": {
   "file_extension": ".jl",
   "mimetype": "application/julia",
   "name": "julia",
   "version": "0.3.11"
  }
 },
 "nbformat": 4,
 "nbformat_minor": 0
}
